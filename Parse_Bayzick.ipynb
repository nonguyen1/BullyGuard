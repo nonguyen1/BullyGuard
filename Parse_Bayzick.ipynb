{
 "cells": [
  {
   "cell_type": "code",
   "execution_count": 7,
   "metadata": {
    "scrolled": true
   },
   "outputs": [],
   "source": [
    "import os\n",
    "import xmltodict\n",
    "import pandas as pd\n",
    "import numpy as np\n",
    "from html.parser import HTMLParser  # Python 3\n",
    "from IPython.display import clear_output\n",
    "\n",
    "dirname = os.path.join('data', 'Bayzick')\n",
    "\n",
    "messages = pd.DataFrame()\n",
    "consensus = pd.DataFrame()\n",
    "print(\"Running....\")\n",
    "num_files = len(os.listdir(dirname))\n",
    "num_errors = 0\n",
    "for filename in os.listdir(dirname):\n",
    "    if filename in [os.listdir(dirname)[7], os.listdir(dirname)[8], os.listdir(dirname)[10], os.listdir(dirname)[15]]:\n",
    "        continue\n",
    "    if '.xml' in filename:\n",
    "        try:\n",
    "            file = dirname + '/' + filename\n",
    "            messages_df = pd.DataFrame(pd.DataFrame(xmltodict.parse(open(file, \"rb\")))['posts'][0])\n",
    "            messages_df['origin'] = filename.strip('.xml')\n",
    "            messages = pd.concat([messages, messages_df])\n",
    "        except:\n",
    "            num_errors += 1\n",
    "            print(\"error in {}\".format(file))\n",
    "    elif '.xlsx' in filename:\n",
    "        file = dirname + '/' + filename\n",
    "        # We need to ignore the first 2 lines of these .xlsx files\n",
    "        consensus = pd.concat([consensus, pd.DataFrame(pd.read_excel(open(file, 'rb'),converters={'File Name':str}, skiprows=[0,1]))])\n",
    "\n",
    "print(messages[['body', 'origin']])\n",
    "print(num_errors, num_files)\n",
    "clear_output()\n"
   ]
  },
  {
   "cell_type": "code",
   "execution_count": 8,
   "metadata": {},
   "outputs": [
    {
     "name": "stdout",
     "output_type": "stream",
     "text": [
      "Index(['origin', 'Is Cyberbullying Present?', 'Unnamed: 2', 'Unnamed: 3'], dtype='object')\n"
     ]
    }
   ],
   "source": [
    "consensus = consensus.rename(columns={\"File Name\": \"origin\"})\n",
    "print(consensus.columns)\n",
    "messages = messages.merge(consensus)"
   ]
  },
  {
   "cell_type": "code",
   "execution_count": 9,
   "metadata": {},
   "outputs": [],
   "source": [
    "bayzick_lbl = list()\n",
    "\n",
    "def concat_msg(group_df, bayzick_lbl=bayzick_lbl):\n",
    "#     global bayzick_lbl\n",
    "    concat_msg = group_df['body'].astype('str').str.cat().lower()\n",
    "    is_bulleying = 1 if group_df.iloc[0]['Is Cyberbullying Present?'] == 'Y' else 0\n",
    "    bayzick_lbl = bayzick_lbl.append([is_bulleying, concat_msg])\n",
    "\n",
    "messages.groupby('origin').apply(concat_msg)\n",
    "label_df = pd.DataFrame(bayzick_lbl, columns=['Label', 'Text']).iloc[4:]"
   ]
  },
  {
   "cell_type": "code",
   "execution_count": 13,
   "metadata": {},
   "outputs": [],
   "source": [
    "label_df.to_csv('final_data/bayzick_label.csv', index=False)"
   ]
  },
  {
   "cell_type": "code",
   "execution_count": null,
   "metadata": {
    "collapsed": true
   },
   "outputs": [],
   "source": []
  }
 ],
 "metadata": {
  "kernelspec": {
   "display_name": "Python 3",
   "language": "python",
   "name": "python3"
  },
  "language_info": {
   "codemirror_mode": {
    "name": "ipython",
    "version": 3
   },
   "file_extension": ".py",
   "mimetype": "text/x-python",
   "name": "python",
   "nbconvert_exporter": "python",
   "pygments_lexer": "ipython3",
   "version": "3.6.3"
  }
 },
 "nbformat": 4,
 "nbformat_minor": 2
}
