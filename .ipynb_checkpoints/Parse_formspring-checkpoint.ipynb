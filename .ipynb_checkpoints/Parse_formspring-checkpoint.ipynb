{
 "cells": [
  {
   "cell_type": "code",
   "execution_count": 1,
   "metadata": {
    "collapsed": true
   },
   "outputs": [],
   "source": [
    "import xmltodict\n",
    "import pandas as pd\n",
    "import numpy as np\n",
    "import matplotlib.pyplot as plt\n",
    "from html.parser import HTMLParser  # Python 3\n",
    "DATA_FILENAME = \"data/Formspring_dataset.xml\"\n",
    "formspring_dict = xmltodict.parse(open(\"data/Formspring_dataset.xml\",\"rb\"))\n",
    "formspring_dict = formspring_dict['dataset']['FORMSPRINGID']\n",
    "df = pd.DataFrame(formspring_dict)['POST']"
   ]
  },
  {
   "cell_type": "code",
   "execution_count": 2,
   "metadata": {},
   "outputs": [
    {
     "name": "stdout",
     "output_type": "stream",
     "text": [
      ".................................................."
     ]
    }
   ],
   "source": [
    "post_arr = df.values\n",
    "df_all = pd.DataFrame()\n",
    "for post in post_arr:\n",
    "    print('.',end='')\n",
    "    if isinstance(post, list):\n",
    "        for i in post:\n",
    "            df_all = pd.concat([df_all, pd.DataFrame(i)])\n",
    "    else:\n",
    "        df_all = pd.concat([df_all, pd.DataFrame(post)])"
   ]
  },
  {
   "cell_type": "code",
   "execution_count": 3,
   "metadata": {
    "collapsed": true
   },
   "outputs": [],
   "source": [
    "df_all['ANSWER'] = df_all['LABELDATA'].apply(lambda label_dict: label_dict['ANSWER'] == 'Yes')"
   ]
  },
  {
   "cell_type": "code",
   "execution_count": 4,
   "metadata": {},
   "outputs": [
    {
     "data": {
      "text/plain": [
       "array([ OrderedDict([('ANSWER', 'No'), ('CYBERBULLYWORD', 'N/A.'), ('SEVERITY', '0'), ('OTHER', None), ('WORKTIME', '17'), ('WORKERID', 'ARQ6ILX0XRYTP')]),\n",
       "       OrderedDict([('ANSWER', 'Yes'), ('CYBERBULLYWORD', 'Do me?'), ('SEVERITY', '3'), ('OTHER', None), ('WORKTIME', '26'), ('WORKERID', 'A269TMRE3QBHN')]),\n",
       "       OrderedDict([('ANSWER', 'No'), ('CYBERBULLYWORD', 'n/a'), ('SEVERITY', '0'), ('OTHER', None), ('WORKTIME', '11'), ('WORKERID', 'A1FUKU9KLSJ9ZP')]),\n",
       "       OrderedDict([('ANSWER', 'No'), ('CYBERBULLYWORD', 'n/a'), ('SEVERITY', '0'), ('OTHER', None), ('WORKTIME', '15'), ('WORKERID', 'A1UMG5JU4VW48R')]),\n",
       "       OrderedDict([('ANSWER', 'No'), ('CYBERBULLYWORD', None), ('SEVERITY', '0'), ('OTHER', '\"sexual, but response indicates not bullying\"'), ('WORKTIME', '40'), ('WORKERID', 'A37SC5J8FEGELD')]),\n",
       "       OrderedDict([('ANSWER', 'No'), ('CYBERBULLYWORD', 'n/a'), ('SEVERITY', '0'), ('OTHER', None), ('WORKTIME', '11'), ('WORKERID', 'A1264GOK2Z3WSE')]),\n",
       "       OrderedDict([('ANSWER', 'No'), ('CYBERBULLYWORD', 'n/a'), ('SEVERITY', '0'), ('OTHER', None), ('WORKTIME', '15'), ('WORKERID', 'A3NUWV8UAHEDQ1')]),\n",
       "       OrderedDict([('ANSWER', 'No'), ('CYBERBULLYWORD', 'n/a'), ('SEVERITY', '0'), ('OTHER', None), ('WORKTIME', '10'), ('WORKERID', 'AZBYJOJZS6A01')]),\n",
       "       OrderedDict([('ANSWER', 'No'), ('CYBERBULLYWORD', 'n/a'), ('SEVERITY', '0'), ('OTHER', None), ('WORKTIME', '9'), ('WORKERID', 'A1HDZE291YUBO5')])], dtype=object)"
      ]
     },
     "execution_count": 4,
     "metadata": {},
     "output_type": "execute_result"
    }
   ],
   "source": [
    "df_all.loc[df_all['TEXT'] == 'Q: Do me?<br>A: Oh yes please.']['LABELDATA'].values"
   ]
  },
  {
   "cell_type": "code",
   "execution_count": 10,
   "metadata": {},
   "outputs": [
    {
     "data": {
      "image/png": "[encoded data removed]",
      "text/plain": [
       "<matplotlib.figure.Figure at 0x10a9811d0>"
      ]
     },
     "metadata": {},
     "output_type": "display_data"
    },
    {
     "data": {
      "image/png": "[encoded data removed]",
      "text/plain": [
       "<matplotlib.figure.Figure at 0x10b420198>"
      ]
     },
     "metadata": {},
     "output_type": "display_data"
    }
   ],
   "source": [
    "df_labelled_mean = df_all.groupby('TEXT').mean()\n",
    "# df_labelled_mean = df_labelled_mean.loc[df_labelled_mean['ANSWER'] != 0]\n",
    "df_labelled_mean.plot(kind='hist')\n",
    "plt.show()"
   ]
  },
  {
   "cell_type": "code",
   "execution_count": 19,
   "metadata": {},
   "outputs": [],
   "source": [
    "# df_labelled_mean.groupby('ANSWER').count()\n",
    "# df_labelled_mean.loc[df_labelled_mean['ANSWER'] > 0.6]\n",
    "#s = \"Q: &amp;&amp; IF U DNT WANNA BAKK OFF HA DICK DEN HOE U FIN TA HAVE TU GET DHA FADEE ON U STREET HOE. CUSS ITS WATEVAA WEN SOME PUSSY ASSS HOE LYK U GUN TRY DISRESPECT WUN US . I KNO SUMBODY WHO SAID DAY NO U N BITCH WELL FIND YO MUTHA FUKN HOUSE HOE. DNT FUKN TRYUS<br>A: hoe dnt be anomnous. :]\"\n",
    "\n",
    "\n",
    "parser = HTMLParser()\n",
    "df_all['TEXT'] = df_all['TEXT'].str.strip('Q: ').str.replace('<br>A:', '').apply(parser.unescape)\n",
    "df_all.to_csv('final_data/Formspring.csv', index=False)\n",
    "#html_decoded_string = parser.unescape(s)\n",
    "#html_decoded_string"
   ]
  },
  {
   "cell_type": "code",
   "execution_count": null,
   "metadata": {
    "collapsed": true
   },
   "outputs": [],
   "source": []
  }
 ],
 "metadata": {
  "kernelspec": {
   "display_name": "Python 3",
   "language": "python",
   "name": "python3"
  },
  "language_info": {
   "codemirror_mode": {
    "name": "ipython",
    "version": 3
   },
   "file_extension": ".py",
   "mimetype": "text/x-python",
   "name": "python",
   "nbconvert_exporter": "python",
   "pygments_lexer": "ipython3",
   "version": "3.6.3"
  }
 },
 "nbformat": 4,
 "nbformat_minor": 2
}
