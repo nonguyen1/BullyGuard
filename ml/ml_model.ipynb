{
 "cells": [
  {
   "cell_type": "code",
   "execution_count": 1,
   "metadata": {},
   "outputs": [],
   "source": [
    "import sklearn\n",
    "import pandas as pd"
   ]
  },
  {
   "cell_type": "code",
   "execution_count": 2,
   "metadata": {},
   "outputs": [],
   "source": [
    "class Data: pass"
   ]
  },
  {
   "cell_type": "code",
   "execution_count": 3,
   "metadata": {},
   "outputs": [],
   "source": [
    "# TODO Clean up loading in the data\n",
    "filename = \"data/bayzick_no_uni_unlabel.csv\"\n",
    "lab = \"data/bayzick_no_uni.csv\"\n",
    "\n",
    "f = open(filename, 'r')\n",
    "f2 = open(lab, 'r')\n",
    "\n",
    "body = []\n",
    "labels = []\n",
    "for line, lab in zip(f.readlines(), f2.readlines()):\n",
    "    line = line.split(\",\")\n",
    "    body.append(\"\".join(line[2:]))\n",
    "    labels.append(lab[0])"
   ]
  },
  {
   "cell_type": "code",
   "execution_count": 99,
   "metadata": {},
   "outputs": [],
   "source": [
    "df = pd.read_csv('data/Formspring.csv', names=[\"body\", 'rating'])\n",
    "df['rating'] = df['rating'].apply(lambda x: round(x))\n",
    "\n",
    "f_body = df['body']\n",
    "f_ratings = df['rating']"
   ]
  },
  {
   "cell_type": "code",
   "execution_count": 115,
   "metadata": {},
   "outputs": [],
   "source": [
    "body = body + list(f_body.values)\n",
    "labels = labels + list(f_ratings.values)"
   ]
  },
  {
   "cell_type": "code",
   "execution_count": 116,
   "metadata": {},
   "outputs": [],
   "source": [
    "from sklearn.feature_extraction.text import CountVectorizer\n",
    "from sklearn.feature_extraction.text import TfidfVectorizer\n",
    "\n",
    "sentiment = Data()\n",
    "\n",
    "# Make the n-grams\n",
    "\n",
    "sentiment.count_vect = CountVectorizer(ngram_range=(1,2))\n",
    "#sentiment.count_vect = TfidfVectorizer(ngram_range=(1,2))\n",
    "\n",
    "\n",
    "sentiment.trainX = sentiment.count_vect.fit_transform(body)"
   ]
  },
  {
   "cell_type": "code",
   "execution_count": 117,
   "metadata": {},
   "outputs": [],
   "source": [
    "# Label encoder for words\n",
    "from sklearn import preprocessing\n",
    "    \n",
    "sentiment.le = preprocessing.LabelEncoder()\n",
    "sentiment.le.fit(labels)\n",
    "sentiment.target_labels = sentiment.le.classes_\n",
    "sentiment.trainy = sentiment.le.transform(labels)"
   ]
  },
  {
   "cell_type": "code",
   "execution_count": 118,
   "metadata": {},
   "outputs": [],
   "source": [
    "def train_classifier(X, y, *args, **kargs):\n",
    "    from sklearn.linear_model import LogisticRegression\n",
    "    cls = LogisticRegression(C=10, random_state=0, max_iter=30000)\n",
    "    cls.fit(X,y)\n",
    "    return cls"
   ]
  },
  {
   "cell_type": "code",
   "execution_count": 119,
   "metadata": {},
   "outputs": [],
   "source": [
    "# Train our classifier\n",
    "cls = train_classifier(sentiment.trainX, sentiment.trainy)"
   ]
  },
  {
   "cell_type": "code",
   "execution_count": 126,
   "metadata": {},
   "outputs": [],
   "source": [
    "# save the model\n",
    "import pickle\n",
    "pickle.dump(cls, open(\"saved_models/classifier.pkl\", \"wb\"))\n",
    "pickle.dump(sentiment, open(\"saved_models/sentiment.pkl\", \"wb\"))"
   ]
  },
  {
   "cell_type": "code",
   "execution_count": 121,
   "metadata": {},
   "outputs": [
    {
     "data": {
      "text/plain": [
       "0.9994611294726253"
      ]
     },
     "execution_count": 121,
     "metadata": {},
     "output_type": "execute_result"
    }
   ],
   "source": [
    "cls.score(sentiment.trainX, sentiment.trainy)"
   ]
  },
  {
   "cell_type": "code",
   "execution_count": 122,
   "metadata": {},
   "outputs": [],
   "source": [
    "a = cls.predict(sentiment.trainX)"
   ]
  },
  {
   "cell_type": "code",
   "execution_count": 123,
   "metadata": {},
   "outputs": [],
   "source": [
    "a = sentiment.count_vect.transform([\"why do fools fall in love\", \"fuck you your suck your trash\", \"You are the most loving person ever\", \"i hate you so much i just want to strangle you till you die\"])"
   ]
  },
  {
   "cell_type": "code",
   "execution_count": 124,
   "metadata": {},
   "outputs": [
    {
     "data": {
      "text/plain": [
       "array([[9.98932050e-01, 1.06794997e-03],\n",
       "       [6.33081398e-02, 9.36691860e-01],\n",
       "       [9.99107698e-01, 8.92302481e-04],\n",
       "       [1.95494503e-01, 8.04505497e-01]])"
      ]
     },
     "execution_count": 124,
     "metadata": {},
     "output_type": "execute_result"
    }
   ],
   "source": [
    "cls.predict_proba(a)"
   ]
  },
  {
   "cell_type": "code",
   "execution_count": 125,
   "metadata": {},
   "outputs": [
    {
     "data": {
      "text/plain": [
       "array([[9.98932050e-01, 1.06794997e-03],\n",
       "       [6.33081398e-02, 9.36691860e-01],\n",
       "       [9.99107698e-01, 8.92302481e-04],\n",
       "       [1.95494503e-01, 8.04505497e-01]])"
      ]
     },
     "execution_count": 125,
     "metadata": {},
     "output_type": "execute_result"
    }
   ],
   "source": [
    "cls.predict_proba(a)"
   ]
  },
  {
   "cell_type": "code",
   "execution_count": null,
   "metadata": {},
   "outputs": [],
   "source": []
  }
 ],
 "metadata": {
  "kernelspec": {
   "display_name": "Python 3",
   "language": "python",
   "name": "python3"
  },
  "language_info": {
   "codemirror_mode": {
    "name": "ipython",
    "version": 3
   },
   "file_extension": ".py",
   "mimetype": "text/x-python",
   "name": "python",
   "nbconvert_exporter": "python",
   "pygments_lexer": "ipython3",
   "version": "3.6.8"
  }
 },
 "nbformat": 4,
 "nbformat_minor": 2
}
